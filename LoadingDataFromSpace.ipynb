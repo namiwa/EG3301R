{
 "cells": [
  {
   "cell_type": "code",
   "execution_count": 1,
   "metadata": {},
   "outputs": [],
   "source": [
    "import cv2\n",
    "import tensorflow as tf\n",
    "import numpy as np\n",
    "import matplotlib.pyplot as plt\n",
    "import os\n",
    "\n",
    "DATADIR = \"EuroSAT//2750\"\n",
    "CATEGORIES = [\"AnnualCrop\", \"Forest\", \"HerbaceousVegetation\", \"Highway\", \n",
    "              \"Industrial\", \"Pasture\", \"PermanentCrop\", \"Residential\", \n",
    "              \"River\", \"SeaLake\"]        "
   ]
  },
  {
   "cell_type": "code",
   "execution_count": 2,
   "metadata": {},
   "outputs": [],
   "source": [
    "training_data = []\n",
    "\n",
    "def create_training_data():\n",
    "    for category in CATEGORIES:\n",
    "        path = os.path.join(DATADIR, category) # path to classifier directory\n",
    "        class_num = CATEGORIES.index(category)\n",
    "        for img in os.listdir(path):\n",
    "            try:\n",
    "                img_array = cv2.imread(os.path.join(path,img))\n",
    "                training_data.append([img_array, class_num])\n",
    "            except Exception as e:\n",
    "                pass\n",
    "\n",
    "create_training_data()"
   ]
  },
  {
   "cell_type": "code",
   "execution_count": 3,
   "metadata": {},
   "outputs": [
    {
     "name": "stdout",
     "output_type": "stream",
     "text": [
      "27000\n"
     ]
    }
   ],
   "source": [
    "print(len(training_data))"
   ]
  },
  {
   "cell_type": "code",
   "execution_count": 4,
   "metadata": {},
   "outputs": [],
   "source": [
    "import random\n",
    "\n",
    "random.shuffle(training_data)"
   ]
  },
  {
   "cell_type": "code",
   "execution_count": 5,
   "metadata": {},
   "outputs": [
    {
     "name": "stdout",
     "output_type": "stream",
     "text": [
      "5\n",
      "7\n",
      "3\n",
      "2\n",
      "3\n",
      "2\n",
      "4\n",
      "0\n",
      "4\n",
      "8\n"
     ]
    }
   ],
   "source": [
    "for sample in training_data[:10]:\n",
    "    print(sample[1])"
   ]
  },
  {
   "cell_type": "code",
   "execution_count": 6,
   "metadata": {},
   "outputs": [],
   "source": [
    "X = []\n",
    "y = []"
   ]
  },
  {
   "cell_type": "code",
   "execution_count": 7,
   "metadata": {},
   "outputs": [],
   "source": [
    "for features, label in training_data:\n",
    "    X.append(features)\n",
    "    y.append(label)\n",
    "\n",
    "X = np.array(X).reshape(-1, 64, 64, 3) #reshape array to np array"
   ]
  },
  {
   "cell_type": "code",
   "execution_count": 8,
   "metadata": {},
   "outputs": [],
   "source": [
    "import pickle\n",
    "\n",
    "pickle_out = open(\"X.pickle\", \"wb\")\n",
    "pickle.dump(X, pickle_out)\n",
    "pickle_out.close()\n",
    "\n",
    "pickle_out = open(\"y.pickle\", \"wb\")\n",
    "pickle.dump(y, pickle_out)\n",
    "pickle_out.close()\n"
   ]
  },
  {
   "cell_type": "code",
   "execution_count": 9,
   "metadata": {},
   "outputs": [],
   "source": [
    "pickle_in = open(\"X.pickle\", \"rb\")\n",
    "X = pickle.load(pickle_in)\n",
    "pickle_in.close()\n",
    "\n",
    "pickle_in = open(\"y.pickle\", \"rb\")\n",
    "y = pickle.load(pickle_in)\n",
    "pickle_in.close()"
   ]
  },
  {
   "cell_type": "code",
   "execution_count": 10,
   "metadata": {},
   "outputs": [
    {
     "data": {
      "text/plain": [
       "array([[[ 99,  94,  79],\n",
       "        [ 99,  93,  80],\n",
       "        [102,  94,  87],\n",
       "        ...,\n",
       "        [107, 104,  90],\n",
       "        [106,  99,  90],\n",
       "        [105,  98,  89]],\n",
       "\n",
       "       [[ 99,  93,  80],\n",
       "        [ 99,  93,  82],\n",
       "        [102,  94,  87],\n",
       "        ...,\n",
       "        [105, 102,  94],\n",
       "        [104,  98,  91],\n",
       "        [105,  98,  89]],\n",
       "\n",
       "       [[100,  91,  81],\n",
       "        [ 98,  91,  82],\n",
       "        [105,  99,  92],\n",
       "        ...,\n",
       "        [113, 112, 116],\n",
       "        [104,  97,  94],\n",
       "        [103,  93,  86]],\n",
       "\n",
       "       ...,\n",
       "\n",
       "       [[137, 137, 137],\n",
       "        [138, 136, 136],\n",
       "        [109, 103, 104],\n",
       "        ...,\n",
       "        [117, 122, 137],\n",
       "        [127, 133, 144],\n",
       "        [138, 145, 154]],\n",
       "\n",
       "       [[113, 108,  99],\n",
       "        [113, 107, 100],\n",
       "        [114, 109, 106],\n",
       "        ...,\n",
       "        [116, 121, 130],\n",
       "        [130, 133, 141],\n",
       "        [124, 126, 134]],\n",
       "\n",
       "       [[103,  96,  81],\n",
       "        [101,  95,  84],\n",
       "        [114, 110, 105],\n",
       "        ...,\n",
       "        [115, 118, 126],\n",
       "        [144, 147, 152],\n",
       "        [132, 132, 138]]], dtype=uint8)"
      ]
     },
     "execution_count": 10,
     "metadata": {},
     "output_type": "execute_result"
    }
   ],
   "source": [
    "X[1]"
   ]
  },
  {
   "cell_type": "code",
   "execution_count": null,
   "metadata": {},
   "outputs": [],
   "source": []
  }
 ],
 "metadata": {
  "kernelspec": {
   "display_name": "Python 3",
   "language": "python",
   "name": "python3"
  },
  "language_info": {
   "codemirror_mode": {
    "name": "ipython",
    "version": 3
   },
   "file_extension": ".py",
   "mimetype": "text/x-python",
   "name": "python",
   "nbconvert_exporter": "python",
   "pygments_lexer": "ipython3",
   "version": "3.6.10"
  }
 },
 "nbformat": 4,
 "nbformat_minor": 4
}
