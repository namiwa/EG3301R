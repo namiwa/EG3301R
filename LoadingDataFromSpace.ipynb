{
 "cells": [
  {
   "cell_type": "code",
   "execution_count": 13,
   "metadata": {},
   "outputs": [],
   "source": [
    "import cv2\n",
    "import tensorflow as tf\n",
    "import numpy as np\n",
    "import matplotlib.pyplot as plt\n",
    "import os\n",
    "\n",
    "DATADIR = \"D://University//BaseConda//EuroSAT//2750\"\n",
    "CATEGORIES = [\"AnnualCrop\", \"Forest\", \"HerbaceousVegetation\", \"Highway\", \n",
    "              \"Industrial\", \"Pasture\", \"PermanentCrop\", \"Residential\", \n",
    "              \"River\", \"SeaLake\"]        "
   ]
  },
  {
   "cell_type": "code",
   "execution_count": 14,
   "metadata": {},
   "outputs": [
    {
     "name": "stdout",
     "output_type": "stream",
     "text": [
      "(64, 64, 3)\n"
     ]
    }
   ],
   "source": [
    "print(img_array.shape)"
   ]
  },
  {
   "cell_type": "code",
   "execution_count": 15,
   "metadata": {},
   "outputs": [],
   "source": [
    "training_data = []\n",
    "\n",
    "def create_training_data():\n",
    "    for category in CATEGORIES:\n",
    "        path = os.path.join(DATADIR, category) # path to classifier directory\n",
    "        class_num = CATEGORIES.index(category)\n",
    "        for img in os.listdir(path):\n",
    "            try:\n",
    "                img_array = cv2.imread(os.path.join(path,img))\n",
    "                training_data.append([img_array, class_num])\n",
    "            except Exception as e:\n",
    "                pass\n",
    "\n",
    "create_training_data()"
   ]
  },
  {
   "cell_type": "code",
   "execution_count": 16,
   "metadata": {},
   "outputs": [
    {
     "name": "stdout",
     "output_type": "stream",
     "text": [
      "27000\n"
     ]
    }
   ],
   "source": [
    "print(len(training_data))"
   ]
  },
  {
   "cell_type": "code",
   "execution_count": 18,
   "metadata": {},
   "outputs": [],
   "source": [
    "import random\n",
    "\n",
    "random.shuffle(training_data)"
   ]
  },
  {
   "cell_type": "code",
   "execution_count": 19,
   "metadata": {},
   "outputs": [
    {
     "name": "stdout",
     "output_type": "stream",
     "text": [
      "3\n",
      "6\n",
      "0\n",
      "5\n",
      "6\n",
      "4\n",
      "9\n",
      "2\n",
      "1\n",
      "0\n"
     ]
    }
   ],
   "source": [
    "for sample in training_data[:10]:\n",
    "    print(sample[1])"
   ]
  },
  {
   "cell_type": "code",
   "execution_count": 20,
   "metadata": {},
   "outputs": [],
   "source": [
    "X = []\n",
    "y = []"
   ]
  },
  {
   "cell_type": "code",
   "execution_count": 21,
   "metadata": {},
   "outputs": [],
   "source": [
    "for features, label in training_data:\n",
    "    X.append(features)\n",
    "    y.append(label)\n",
    "\n",
    "X = np.array(X).reshape(-1, 64, 64, 3) #reshape array to np array"
   ]
  },
  {
   "cell_type": "code",
   "execution_count": 22,
   "metadata": {},
   "outputs": [],
   "source": [
    "import pickle\n",
    "\n",
    "pickle_out = open(\"X.pickle\", \"wb\")\n",
    "pickle.dump(X, pickle_out)\n",
    "pickle_out.close()\n",
    "\n",
    "pickle_out = open(\"y.pickle\", \"wb\")\n",
    "pickle.dump(y, pickle_out)\n",
    "pickle_out.close()\n"
   ]
  },
  {
   "cell_type": "code",
   "execution_count": 23,
   "metadata": {},
   "outputs": [],
   "source": [
    "pickle_in = open(\"X.pickle\", \"rb\")\n",
    "X = pickle.load(pickle_in)\n",
    "pickle_in.close()\n",
    "\n",
    "pickle_in = open(\"y.pickle\", \"rb\")\n",
    "y = pickle.load(pickle_in)\n",
    "pickle_in.close()"
   ]
  },
  {
   "cell_type": "code",
   "execution_count": 24,
   "metadata": {},
   "outputs": [
    {
     "data": {
      "text/plain": [
       "array([[[ 97, 102, 103],\n",
       "        [ 98, 103, 104],\n",
       "        [103, 105, 106],\n",
       "        ...,\n",
       "        [127, 142, 175],\n",
       "        [127, 140, 172],\n",
       "        [126, 139, 171]],\n",
       "\n",
       "       [[101, 104, 102],\n",
       "        [101, 104, 102],\n",
       "        [105, 106, 104],\n",
       "        ...,\n",
       "        [127, 142, 175],\n",
       "        [127, 139, 173],\n",
       "        [126, 139, 171]],\n",
       "\n",
       "       [[ 85,  85,  73],\n",
       "        [ 85,  85,  73],\n",
       "        [ 86,  86,  74],\n",
       "        ...,\n",
       "        [128, 144, 180],\n",
       "        [128, 142, 178],\n",
       "        [128, 143, 176]],\n",
       "\n",
       "       ...,\n",
       "\n",
       "       [[ 87,  83,  65],\n",
       "        [ 87,  83,  65],\n",
       "        [ 90,  86,  68],\n",
       "        ...,\n",
       "        [ 75,  70,  45],\n",
       "        [ 77,  69,  46],\n",
       "        [ 76,  68,  45]],\n",
       "\n",
       "       [[ 91,  86,  71],\n",
       "        [ 91,  87,  69],\n",
       "        [ 83,  76,  59],\n",
       "        ...,\n",
       "        [ 75,  68,  43],\n",
       "        [ 76,  69,  44],\n",
       "        [ 78,  71,  46]],\n",
       "\n",
       "       [[ 76,  71,  56],\n",
       "        [ 76,  72,  54],\n",
       "        [ 76,  68,  51],\n",
       "        ...,\n",
       "        [ 77,  70,  45],\n",
       "        [ 76,  69,  44],\n",
       "        [ 77,  70,  45]]], dtype=uint8)"
      ]
     },
     "execution_count": 24,
     "metadata": {},
     "output_type": "execute_result"
    }
   ],
   "source": [
    "X[1]"
   ]
  },
  {
   "cell_type": "code",
   "execution_count": null,
   "metadata": {},
   "outputs": [],
   "source": []
  }
 ],
 "metadata": {
  "kernelspec": {
   "display_name": "Python 3",
   "language": "python",
   "name": "python3"
  },
  "language_info": {
   "codemirror_mode": {
    "name": "ipython",
    "version": 3
   },
   "file_extension": ".py",
   "mimetype": "text/x-python",
   "name": "python",
   "nbconvert_exporter": "python",
   "pygments_lexer": "ipython3",
   "version": "3.6.10"
  }
 },
 "nbformat": 4,
 "nbformat_minor": 4
}
