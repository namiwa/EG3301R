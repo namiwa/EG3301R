{
 "cells": [
  {
   "cell_type": "code",
   "execution_count": 15,
   "metadata": {},
   "outputs": [],
   "source": [
    "import tensorflow as tf\n",
    "import pandas as pd\n",
    "import numpy as np\n",
    "import matplotlib.pyplot as plt\n",
    "import os\n",
    "import datetime\n",
    "import json"
   ]
  },
  {
   "cell_type": "code",
   "execution_count": 20,
   "metadata": {},
   "outputs": [
    {
     "ename": "ModuleNotFoundError",
     "evalue": "No module named 'cv2'",
     "output_type": "error",
     "traceback": [
      "\u001b[1;31m---------------------------------------------------------------------------\u001b[0m",
      "\u001b[1;31mModuleNotFoundError\u001b[0m                       Traceback (most recent call last)",
      "\u001b[1;32m<ipython-input-20-c8ec22b3e787>\u001b[0m in \u001b[0;36m<module>\u001b[1;34m\u001b[0m\n\u001b[1;32m----> 1\u001b[1;33m \u001b[1;32mimport\u001b[0m \u001b[0mcv2\u001b[0m\u001b[1;33m\u001b[0m\u001b[1;33m\u001b[0m\u001b[0m\n\u001b[0m",
      "\u001b[1;31mModuleNotFoundError\u001b[0m: No module named 'cv2'"
     ]
    }
   ],
   "source": [
    "import cv2"
   ]
  },
  {
   "cell_type": "code",
   "execution_count": 5,
   "metadata": {},
   "outputs": [
    {
     "name": "stdout",
     "output_type": "stream",
     "text": [
      "[PhysicalDevice(name='/physical_device:GPU:0', device_type='GPU')]\n",
      "8192\n"
     ]
    }
   ],
   "source": [
    "MEMORY_LIMIT = 2 ** 13\n",
    "gpus = tf.config.experimental.list_physical_devices('GPU')\n",
    "if gpus:\n",
    "    try:\n",
    "        tf.config.experimental.set_virtual_device_configuration(gpus[0], [tf.config.experimental.VirtualDeviceConfiguration(memory_limit=MEMORY_LIMIT)])\n",
    "        print(gpus)\n",
    "    except RuntimeError as e:\n",
    "        print(e)\n",
    "\n",
    "print(MEMORY_LIMIT)"
   ]
  },
  {
   "cell_type": "code",
   "execution_count": 6,
   "metadata": {},
   "outputs": [
    {
     "data": {
      "text/html": [
       "<div>\n",
       "<style scoped>\n",
       "    .dataframe tbody tr th:only-of-type {\n",
       "        vertical-align: middle;\n",
       "    }\n",
       "\n",
       "    .dataframe tbody tr th {\n",
       "        vertical-align: top;\n",
       "    }\n",
       "\n",
       "    .dataframe thead th {\n",
       "        text-align: right;\n",
       "    }\n",
       "</style>\n",
       "<table border=\"1\" class=\"dataframe\">\n",
       "  <thead>\n",
       "    <tr style=\"text-align: right;\">\n",
       "      <th></th>\n",
       "      <th>Time</th>\n",
       "      <th>mean_2m_air_temperature</th>\n",
       "      <th>minimum_2m_air_temperature</th>\n",
       "      <th>maximum_2m_air_temperature</th>\n",
       "      <th>dewpoint_2m_temperature</th>\n",
       "      <th>total_percipitation</th>\n",
       "      <th>surface_pressure</th>\n",
       "      <th>mean_sea_level_pressure</th>\n",
       "      <th>u_component_of_wind_10m</th>\n",
       "      <th>v_component_of_wind_10m</th>\n",
       "      <th>...</th>\n",
       "      <th>Rs_max</th>\n",
       "      <th>Rs_std</th>\n",
       "      <th>Rbt_avg</th>\n",
       "      <th>Rbt_min</th>\n",
       "      <th>Rbt_max</th>\n",
       "      <th>Rbt_std</th>\n",
       "      <th>Rm_avg</th>\n",
       "      <th>Rm_min</th>\n",
       "      <th>Rm_max</th>\n",
       "      <th>Rm_std</th>\n",
       "    </tr>\n",
       "  </thead>\n",
       "  <tbody>\n",
       "    <tr>\n",
       "      <th>0</th>\n",
       "      <td>2017-01-01 00:00:00+00:00</td>\n",
       "      <td>269.932220</td>\n",
       "      <td>268.215515</td>\n",
       "      <td>271.720673</td>\n",
       "      <td>269.278320</td>\n",
       "      <td>0.000174</td>\n",
       "      <td>98356.281250</td>\n",
       "      <td>102414.289062</td>\n",
       "      <td>1.841093</td>\n",
       "      <td>2.131431</td>\n",
       "      <td>...</td>\n",
       "      <td>6.057066</td>\n",
       "      <td>0.328785</td>\n",
       "      <td>15.643194</td>\n",
       "      <td>15.551302</td>\n",
       "      <td>15.723785</td>\n",
       "      <td>0.045122</td>\n",
       "      <td>623.617223</td>\n",
       "      <td>335.049114</td>\n",
       "      <td>909.467899</td>\n",
       "      <td>140.488750</td>\n",
       "    </tr>\n",
       "    <tr>\n",
       "      <th>1</th>\n",
       "      <td>2017-01-02 00:00:00+00:00</td>\n",
       "      <td>272.176300</td>\n",
       "      <td>270.802063</td>\n",
       "      <td>273.620483</td>\n",
       "      <td>271.712891</td>\n",
       "      <td>0.002059</td>\n",
       "      <td>98405.359375</td>\n",
       "      <td>102452.304688</td>\n",
       "      <td>1.904414</td>\n",
       "      <td>-0.041893</td>\n",
       "      <td>...</td>\n",
       "      <td>0.096094</td>\n",
       "      <td>0.013385</td>\n",
       "      <td>9.385312</td>\n",
       "      <td>9.319878</td>\n",
       "      <td>9.441406</td>\n",
       "      <td>0.028056</td>\n",
       "      <td>-3.198663</td>\n",
       "      <td>-6.418038</td>\n",
       "      <td>-1.675208</td>\n",
       "      <td>0.742309</td>\n",
       "    </tr>\n",
       "    <tr>\n",
       "      <th>2</th>\n",
       "      <td>2017-01-03 00:00:00+00:00</td>\n",
       "      <td>272.083160</td>\n",
       "      <td>271.294495</td>\n",
       "      <td>272.873596</td>\n",
       "      <td>271.322662</td>\n",
       "      <td>0.000194</td>\n",
       "      <td>98749.265625</td>\n",
       "      <td>102816.750000</td>\n",
       "      <td>2.671353</td>\n",
       "      <td>1.049495</td>\n",
       "      <td>...</td>\n",
       "      <td>0.024983</td>\n",
       "      <td>0.004306</td>\n",
       "      <td>5.133976</td>\n",
       "      <td>5.078819</td>\n",
       "      <td>5.177517</td>\n",
       "      <td>0.020990</td>\n",
       "      <td>0.000000</td>\n",
       "      <td>0.000000</td>\n",
       "      <td>0.000000</td>\n",
       "      <td>0.000000</td>\n",
       "    </tr>\n",
       "    <tr>\n",
       "      <th>3</th>\n",
       "      <td>2017-01-04 00:00:00+00:00</td>\n",
       "      <td>273.484558</td>\n",
       "      <td>271.917023</td>\n",
       "      <td>274.898895</td>\n",
       "      <td>272.595581</td>\n",
       "      <td>0.003920</td>\n",
       "      <td>98028.078125</td>\n",
       "      <td>102050.992188</td>\n",
       "      <td>4.853374</td>\n",
       "      <td>0.718936</td>\n",
       "      <td>...</td>\n",
       "      <td>0.349062</td>\n",
       "      <td>0.090763</td>\n",
       "      <td>3.206717</td>\n",
       "      <td>3.153499</td>\n",
       "      <td>3.242588</td>\n",
       "      <td>0.018342</td>\n",
       "      <td>-8.454560</td>\n",
       "      <td>-259.354830</td>\n",
       "      <td>-0.561125</td>\n",
       "      <td>34.181510</td>\n",
       "    </tr>\n",
       "    <tr>\n",
       "      <th>4</th>\n",
       "      <td>2017-01-05 00:00:00+00:00</td>\n",
       "      <td>271.901489</td>\n",
       "      <td>267.574341</td>\n",
       "      <td>274.090118</td>\n",
       "      <td>269.158569</td>\n",
       "      <td>0.000468</td>\n",
       "      <td>98922.898438</td>\n",
       "      <td>103005.500000</td>\n",
       "      <td>0.460275</td>\n",
       "      <td>-2.367627</td>\n",
       "      <td>...</td>\n",
       "      <td>0.174497</td>\n",
       "      <td>0.048003</td>\n",
       "      <td>3.035104</td>\n",
       "      <td>2.976997</td>\n",
       "      <td>3.069965</td>\n",
       "      <td>0.019878</td>\n",
       "      <td>-3.401372</td>\n",
       "      <td>-128.633385</td>\n",
       "      <td>0.000000</td>\n",
       "      <td>16.357049</td>\n",
       "    </tr>\n",
       "  </tbody>\n",
       "</table>\n",
       "<p>5 rows × 124 columns</p>\n",
       "</div>"
      ],
      "text/plain": [
       "                        Time  mean_2m_air_temperature  \\\n",
       "0  2017-01-01 00:00:00+00:00               269.932220   \n",
       "1  2017-01-02 00:00:00+00:00               272.176300   \n",
       "2  2017-01-03 00:00:00+00:00               272.083160   \n",
       "3  2017-01-04 00:00:00+00:00               273.484558   \n",
       "4  2017-01-05 00:00:00+00:00               271.901489   \n",
       "\n",
       "   minimum_2m_air_temperature  maximum_2m_air_temperature  \\\n",
       "0                  268.215515                  271.720673   \n",
       "1                  270.802063                  273.620483   \n",
       "2                  271.294495                  272.873596   \n",
       "3                  271.917023                  274.898895   \n",
       "4                  267.574341                  274.090118   \n",
       "\n",
       "   dewpoint_2m_temperature  total_percipitation  surface_pressure  \\\n",
       "0               269.278320             0.000174      98356.281250   \n",
       "1               271.712891             0.002059      98405.359375   \n",
       "2               271.322662             0.000194      98749.265625   \n",
       "3               272.595581             0.003920      98028.078125   \n",
       "4               269.158569             0.000468      98922.898438   \n",
       "\n",
       "   mean_sea_level_pressure  u_component_of_wind_10m  v_component_of_wind_10m  \\\n",
       "0            102414.289062                 1.841093                 2.131431   \n",
       "1            102452.304688                 1.904414                -0.041893   \n",
       "2            102816.750000                 2.671353                 1.049495   \n",
       "3            102050.992188                 4.853374                 0.718936   \n",
       "4            103005.500000                 0.460275                -2.367627   \n",
       "\n",
       "   ...    Rs_max    Rs_std    Rbt_avg    Rbt_min    Rbt_max   Rbt_std  \\\n",
       "0  ...  6.057066  0.328785  15.643194  15.551302  15.723785  0.045122   \n",
       "1  ...  0.096094  0.013385   9.385312   9.319878   9.441406  0.028056   \n",
       "2  ...  0.024983  0.004306   5.133976   5.078819   5.177517  0.020990   \n",
       "3  ...  0.349062  0.090763   3.206717   3.153499   3.242588  0.018342   \n",
       "4  ...  0.174497  0.048003   3.035104   2.976997   3.069965  0.019878   \n",
       "\n",
       "       Rm_avg      Rm_min      Rm_max      Rm_std  \n",
       "0  623.617223  335.049114  909.467899  140.488750  \n",
       "1   -3.198663   -6.418038   -1.675208    0.742309  \n",
       "2    0.000000    0.000000    0.000000    0.000000  \n",
       "3   -8.454560 -259.354830   -0.561125   34.181510  \n",
       "4   -3.401372 -128.633385    0.000000   16.357049  \n",
       "\n",
       "[5 rows x 124 columns]"
      ]
     },
     "execution_count": 6,
     "metadata": {},
     "output_type": "execute_result"
    }
   ],
   "source": [
    "# Loading processed Data\n",
    "df = pd.read_csv('processed_wind_era_le_haute_2017.csv', drop)\n",
    "df.head()"
   ]
  },
  {
   "cell_type": "code",
   "execution_count": 13,
   "metadata": {},
   "outputs": [],
   "source": [
    "test = tf.saved_model.load(os.path.join(os.getcwd(), 'app'))"
   ]
  },
  {
   "cell_type": "code",
   "execution_count": 12,
   "metadata": {},
   "outputs": [
    {
     "name": "stdout",
     "output_type": "stream",
     "text": [
      "['serving_default']\n",
      "{'dense_1': TensorSpec(shape=(None, 10), dtype=tf.float32, name='dense_1')}\n"
     ]
    }
   ],
   "source": [
    "loaded = test\n",
    "print(list(loaded.signatures.keys()))  # [\"serving_default\"]\n",
    "infer = loaded.signatures[\"serving_default\"]\n",
    "print(infer.structured_outputs)"
   ]
  },
  {
   "cell_type": "code",
   "execution_count": 17,
   "metadata": {},
   "outputs": [],
   "source": [
    "image = \"D:/University/CEGY3S1/EG3301R/EG3301R/EuroSAT/2750/Forest/Forest_3.jpg\""
   ]
  },
  {
   "cell_type": "code",
   "execution_count": 18,
   "metadata": {},
   "outputs": [
    {
     "ename": "NameError",
     "evalue": "name 'Image' is not defined",
     "output_type": "error",
     "traceback": [
      "\u001b[1;31m---------------------------------------------------------------------------\u001b[0m",
      "\u001b[1;31mNameError\u001b[0m                                 Traceback (most recent call last)",
      "\u001b[1;32m<ipython-input-18-72a0c1b29223>\u001b[0m in \u001b[0;36m<module>\u001b[1;34m\u001b[0m\n\u001b[1;32m----> 1\u001b[1;33m \u001b[0mnp\u001b[0m\u001b[1;33m.\u001b[0m\u001b[0marray\u001b[0m\u001b[1;33m(\u001b[0m\u001b[0mImage\u001b[0m\u001b[1;33m.\u001b[0m\u001b[0mopen\u001b[0m\u001b[1;33m(\u001b[0m\u001b[0mimage\u001b[0m\u001b[1;33m)\u001b[0m\u001b[1;33m)\u001b[0m\u001b[1;33m\u001b[0m\u001b[1;33m\u001b[0m\u001b[0m\n\u001b[0m",
      "\u001b[1;31mNameError\u001b[0m: name 'Image' is not defined"
     ]
    }
   ],
   "source": [
    "np.array(Image.open(image))"
   ]
  },
  {
   "cell_type": "code",
   "execution_count": null,
   "metadata": {},
   "outputs": [],
   "source": []
  }
 ],
 "metadata": {
  "kernelspec": {
   "display_name": "Python 3",
   "language": "python",
   "name": "python3"
  },
  "language_info": {
   "codemirror_mode": {
    "name": "ipython",
    "version": 3
   },
   "file_extension": ".py",
   "mimetype": "text/x-python",
   "name": "python",
   "nbconvert_exporter": "python",
   "pygments_lexer": "ipython3",
   "version": "3.7.7"
  }
 },
 "nbformat": 4,
 "nbformat_minor": 4
}
